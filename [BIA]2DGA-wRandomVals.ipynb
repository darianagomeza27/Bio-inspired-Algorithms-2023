{
 "cells": [
  {
   "cell_type": "markdown",
   "id": "1635ced2",
   "metadata": {},
   "source": [
    "# Bio-Inspired Algorithms\n",
    "## 2-D Genetic Algorithm\n",
    "\n",
    "### Dr. Carlos Lopez-Franco @ UDG\n",
    "### Dariana Gomez-Alvarez"
   ]
  },
  {
   "cell_type": "markdown",
   "id": "be413697",
   "metadata": {},
   "source": [
    "Objective Function\n",
    "$$ f(x,y) = x^2 + y^2 $$"
   ]
  },
  {
   "cell_type": "markdown",
   "id": "d4dbaa6c",
   "metadata": {},
   "source": [
    "## Libraries"
   ]
  },
  {
   "cell_type": "code",
   "execution_count": 8,
   "id": "c892c977",
   "metadata": {},
   "outputs": [],
   "source": [
    "import numpy as np"
   ]
  },
  {
   "cell_type": "markdown",
   "id": "e251868a",
   "metadata": {},
   "source": [
    "## Main"
   ]
  },
  {
   "cell_type": "code",
   "execution_count": 109,
   "id": "97e933e5",
   "metadata": {},
   "outputs": [
    {
     "name": "stdout",
     "output_type": "stream",
     "text": [
      "****************************************************************************************************\n",
      "Fittest individual found. Fitness: 0.008888888888888885 in Gen 19.\n",
      " [[0 1 0 1 1 0 1 0]\n",
      " [1 0 0 1 0 1 1 0]\n",
      " [0 1 1 1 1 0 0 0]\n",
      " [1 0 0 1 0 1 1 0]\n",
      " [0 1 0 0 0 1 1 0]\n",
      " [0 1 1 0 1 0 0 0]]\n",
      "****************************************************************************************************\n"
     ]
    }
   ],
   "source": [
    "################### Initial Parameters ########################\n",
    "\n",
    "pop = np.array([\n",
    "    [1, 0, 0, 1, 0, 1, 1, 1],\n",
    "    [0, 1, 0, 1, 0, 0, 0, 0],\n",
    "    [0, 1, 1, 0, 0, 1, 0, 0],\n",
    "    [1, 0, 0, 1, 0, 1, 1, 1],\n",
    "    [0, 0, 1, 1, 1, 1, 0, 1],\n",
    "    [0, 1, 1, 1, 1, 1, 0, 1]\n",
    "    ])\n",
    "\n",
    "iterations = 1000\n",
    "\n",
    "l_sel = generate_random_list(iterations, 3, 0, 5)\n",
    "\n",
    "l_rand = rand_list_cross_mut(iterations**2, 0, 1)\n",
    "\n",
    "ind_size = 8\n",
    "inds_per_gen = 6\n",
    "\n",
    "cr_valid, mu_valid = sep_cross_mut(l_rand)\n",
    "\n",
    "\n",
    "l_cross = rand_list_crossover(iterations, 1, 6)\n",
    "\n",
    "ran_min_x = -1\n",
    "ran_max_x = 1\n",
    "\n",
    "ran_min_y = -1\n",
    "ran_max_y = 1\n",
    "\n",
    "r_cross = 0.9\n",
    "r_mut = 0.25\n",
    "\n",
    "best_fitness = 0\n",
    "\n",
    "x_values_bin, y_values_bin = split_population(pop)\n",
    "\n",
    "################ Objective Function #######################\n",
    "\n",
    "obj_function = lambda x, y: x**2 + y**2\n",
    "\n",
    "\n",
    "######################## Iterations ###############################\n",
    "\n",
    "for gen in range(iterations):\n",
    "    #print(\"Gen\", gen)\n",
    "        \n",
    "    combined_array = np.hstack((x_values_bin, y_values_bin))\n",
    "    #print(combined_array)  \n",
    "    \n",
    "    x, y = binary_population_to_decoded_values(x_values_bin, y_values_bin, ran_min_x, ran_max_x)\n",
    "    \n",
    "    x_values = np.array(x)\n",
    "    y_values = np.array(y)\n",
    "\n",
    "    #print(x_values,y_values)\n",
    "    ####################### Fitnesses #######################\n",
    "    fitnesses = np.array([])\n",
    "    \n",
    "    fitnesses = np.array(obj_function(x_values, y_values))\n",
    "    \n",
    "    ##################### Tournament #########################\n",
    "\n",
    "    champs = tournament(gen, l_sel, fitnesses)\n",
    "\n",
    "    #print(f\"The champions of generation {gen} are: {champs}\")\n",
    "    \n",
    "    fit_dict = {index: value for index, value in enumerate(fitnesses)} \n",
    "        \n",
    "    subtourns = champs_fcn(champs)\n",
    "    \n",
    "    best_fitness = min(champs)\n",
    "        \n",
    "    ############## Creating new generation #################\n",
    "    new_x_list = []\n",
    "    new_y_list = []\n",
    "    \n",
    "    for item in subtourns:\n",
    "        new_x_list.append(x_values_bin[item])\n",
    "        new_y_list.append(y_values_bin[item])\n",
    "\n",
    "    x_values_bin = np.array(new_x_list)\n",
    "    y_values_bin = np.array(new_y_list)\n",
    "\n",
    "       \n",
    "    ################## Crossover #####################\n",
    "    if cr_valid[0] < r_cross:\n",
    "        #print(\"crosses\", cr_valid[0])\n",
    "        x_values_bin, y_values_bin = crossover(x_values_bin, y_values_bin, l_cross[gen])\n",
    "        cr_valid = cr_valid[1:]\n",
    "    else:\n",
    "        #print(\"doesnt cross\")\n",
    "        pass\n",
    "    \n",
    "        \n",
    "    ################# Mutation #######################\n",
    "    position = 0\n",
    "    for mutating in range(ind_size*3):\n",
    "        if mu_valid[0] < r_mut:\n",
    "            #print(mutating, \": mutates\",position, mu_valid[0])\n",
    "            x_values_bin, y_values_bin = mutation(x_values_bin, y_values_bin, position)\n",
    "            mu_valid = mu_valid[1:]\n",
    "        else:\n",
    "            #print(mutating, \": doesnt mutate\",position, mu_valid[0])\n",
    "            mu_valid = mu_valid[1:]\n",
    "            position += 1\n",
    "        if position > 7:\n",
    "            position = 0\n",
    "            \n",
    "    if abs(best_fitness) < 0.01:\n",
    "        print('*'*100)\n",
    "        print(f\"Fittest individual found. Fitness: {best_fitness} in Gen {gen}.\\n\",combined_array)\n",
    "        print('*'*100)\n",
    "\n",
    "        break\n",
    "#print(\"Limit of iterations reached.\")"
   ]
  },
  {
   "cell_type": "markdown",
   "id": "7ab12936",
   "metadata": {},
   "source": [
    "## Functions Definitions"
   ]
  },
  {
   "cell_type": "code",
   "execution_count": 9,
   "id": "464e5a72",
   "metadata": {},
   "outputs": [],
   "source": [
    "def split_population(population):\n",
    "    # Split each row into two arrays of shape (6, 4) for x and y\n",
    "    x_array = population[:, :4]\n",
    "    y_array = population[:, 4:]\n",
    "    return x_array, y_array"
   ]
  },
  {
   "cell_type": "code",
   "execution_count": 10,
   "id": "aa735b2f",
   "metadata": {},
   "outputs": [],
   "source": [
    "def binary_population_to_decoded_values(x, y, min_value, max_value):\n",
    "    decoded_x = []\n",
    "    decoded_y = []\n",
    "    bits_per_individual = 4  # It's actually 8, but we are working separately\n",
    "    \n",
    "    #print(x,y)\n",
    "\n",
    "    for row_x, row_y in zip(x, y):\n",
    "        binary_x = \"\".join(map(str, row_x))\n",
    "        binary_y = \"\".join(map(str, row_y))\n",
    "\n",
    "        decimal_x = int(binary_x, 2)\n",
    "        decimal_y = int(binary_y, 2)\n",
    "\n",
    "        decoded_x_value = min_value + decimal_x * (max_value - min_value) / (2 ** bits_per_individual - 1)\n",
    "        decoded_y_value = min_value + decimal_y * (max_value - min_value) / (2 ** bits_per_individual - 1)\n",
    "\n",
    "        decoded_x.append(decoded_x_value)\n",
    "        decoded_y.append(decoded_y_value)\n",
    "\n",
    "    #print(decoded_x, decoded_y)\n",
    "    \n",
    "    return decoded_x, decoded_y"
   ]
  },
  {
   "cell_type": "code",
   "execution_count": 11,
   "id": "c0dab631",
   "metadata": {},
   "outputs": [],
   "source": [
    "def tournament(generation, selection, fitnesses): \n",
    "    # Separate tournaments' list into smaller lists (same amount as individuals in initial population)\n",
    "\n",
    "    n = 6 # Number of elements per smaller list\n",
    "\n",
    "    tournaments= []\n",
    "\n",
    "    smaller_lists = [selection[i:i + n] for i in range(0, len(selection), n)]\n",
    "\n",
    "    for sublist in smaller_lists:\n",
    "        tournaments.append(sublist)\n",
    "        \n",
    "    sorted_list = []\n",
    "    comps = 3 # competitors per tournament\n",
    "    \n",
    "    # actual tournament process\n",
    "    \n",
    "    champs = []\n",
    "    \n",
    "    for tourns in tournaments[generation]:\n",
    "        for competitor in tourns:\n",
    "            sorted_list.append(fitnesses[competitor])\n",
    "    smaller_tourns = [sorted_list[i:i + comps] for i in range(0, len(sorted_list), comps)]\n",
    "    for element in smaller_tourns:\n",
    "        champs.append(min(element))\n",
    "        \n",
    "    return champs"
   ]
  },
  {
   "cell_type": "code",
   "execution_count": 12,
   "id": "d26842c0",
   "metadata": {},
   "outputs": [],
   "source": [
    "def champs_fcn(champions):\n",
    "    # Retrieve indices to know which individuals will integrate new population\n",
    "\n",
    "    indices = [key for value in champions for key, dict_value in fit_dict.items() if value == dict_value]\n",
    "    subtourns_ = [indices[i:i+6] for i in range(0, len(indices), 6)]\n",
    "\n",
    "    subtourns = subtourns_[0]\n",
    "    \n",
    "    return subtourns\n"
   ]
  },
  {
   "cell_type": "code",
   "execution_count": 13,
   "id": "0deafdaf",
   "metadata": {},
   "outputs": [],
   "source": [
    "def sep_cross_mut(list_randoms):\n",
    "    # Separate items in l_rand list so that we have separate lists for crossover and mutation (for now).\n",
    "    pos = ind_size*2 + 1\n",
    "    \n",
    "    c_val = list_randoms[::pos]\n",
    "\n",
    "    m_val = []\n",
    "\n",
    "    for i in range(1, len(list_randoms), 1):\n",
    "        if i % pos != 0:\n",
    "            m_val.append(list_randoms[i])\n",
    "            \n",
    "    cross_valid = np.array(c_val)\n",
    "    mut_valid = np.array(m_val)\n",
    "            \n",
    "    return cross_valid, mut_valid"
   ]
  },
  {
   "cell_type": "code",
   "execution_count": 14,
   "id": "0fef3241",
   "metadata": {},
   "outputs": [],
   "source": [
    "def crossover(x4cross, y4cross, bit):\n",
    "    for t in range(5):\n",
    "        if bit < 4:\n",
    "            # Swap bits in x4cross and y4cross\n",
    "            tmp = x4cross[t][bit]\n",
    "            #print(\"current bit:\", tmp)\n",
    "            x4cross[t][bit] = x4cross[t][bit]\n",
    "            x4cross[t][bit] = tmp\n",
    "        else:\n",
    "            bit -= 4  # Move to the next 4 bits\n",
    "            # Swap bits in x4cross and y4cross\n",
    "            tmp = y4cross[t][bit]\n",
    "            y4cross[t][bit] = y4cross[t][bit]\n",
    "            y4cross[t][bit] = tmp\n",
    "    return x4cross, y4cross\n"
   ]
  },
  {
   "cell_type": "code",
   "execution_count": 15,
   "id": "1c76a3e8",
   "metadata": {},
   "outputs": [],
   "source": [
    "def mutation(x4mut, y4mut, ind):\n",
    "    for t in range(5):\n",
    "        if ind < 4:\n",
    "            x4mut[t][ind] = 1 - x4mut[t][ind]\n",
    "        else:\n",
    "            ind -= 4\n",
    "            y4mut[t][ind] = 1 - y4mut[t][ind]\n",
    "        \n",
    "    return x4mut, y4mut"
   ]
  },
  {
   "cell_type": "code",
   "execution_count": 26,
   "id": "ec4d8efb",
   "metadata": {},
   "outputs": [],
   "source": [
    "import random\n",
    "\n",
    "def rand_list_tour(num_lists, list_length, min_value, max_value):\n",
    "    random_list = []\n",
    "    for _ in range(num_lists):\n",
    "        inner_list = [random.randint(min_value, max_value) for _ in range(list_length)]\n",
    "        random_list.append(inner_list)\n",
    "    return random_list\n",
    "\n",
    "#l_sel = generate_random_list(54, 3, 0, 5)\n",
    "#print(l_sel)\n"
   ]
  },
  {
   "cell_type": "code",
   "execution_count": 28,
   "id": "be76f5b7",
   "metadata": {},
   "outputs": [],
   "source": [
    "def rand_list_cross_mut(num_values, min_value, max_value):\n",
    "    random_list = [random.uniform(min_value, max_value) for _ in range(num_values)]\n",
    "    return random_list\n",
    "\n",
    "random_values = rand_list_cross_mut(256, 0, 1)\n",
    "#print(random_values)\n"
   ]
  },
  {
   "cell_type": "code",
   "execution_count": 54,
   "id": "b60c9e86",
   "metadata": {},
   "outputs": [],
   "source": [
    "def rand_list_crossover(num_values, min_value, max_value):\n",
    "    random_list = [random.randint(min_value, max_value) for _ in range(num_values)]\n",
    "    return random_list\n",
    "\n",
    "random_integers = rand_list_crossover(14, 1, 6)\n",
    "#print(random_integers)\n"
   ]
  }
 ],
 "metadata": {
  "kernelspec": {
   "display_name": "Python 3 (ipykernel)",
   "language": "python",
   "name": "python3"
  },
  "language_info": {
   "codemirror_mode": {
    "name": "ipython",
    "version": 3
   },
   "file_extension": ".py",
   "mimetype": "text/x-python",
   "name": "python",
   "nbconvert_exporter": "python",
   "pygments_lexer": "ipython3",
   "version": "3.11.4"
  }
 },
 "nbformat": 4,
 "nbformat_minor": 5
}
