{
 "cells": [
  {
   "cell_type": "markdown",
   "id": "31b1a717",
   "metadata": {},
   "source": [
    "# Bio-inspired Algorithms\n",
    "## 1-D\n",
    "## Dariana Gomez"
   ]
  },
  {
   "cell_type": "markdown",
   "id": "be413697",
   "metadata": {},
   "source": [
    "Objective Function\n",
    "$$ f(x) = x^2 $$"
   ]
  },
  {
   "cell_type": "markdown",
   "id": "87b538ac",
   "metadata": {},
   "source": [
    "## Initial parameters"
   ]
  },
  {
   "cell_type": "code",
   "execution_count": 99,
   "id": "46b62796",
   "metadata": {},
   "outputs": [],
   "source": [
    "# Selecting elements for tournaments\n",
    "l_sel= [[5, 0, 1], [4, 2, 1], [5, 1, 0], [1, 5, 4], [0, 1, 4], [2, 1, 0], [1, 5, 3], [3, 2, 5], [0, 5, 3], [0, 4, 5], \n",
    "        [0, 2, 3], [4, 0, 3], [4, 3, 1], [5, 3, 4], [2, 4, 3], [0, 2, 3], [3, 4, 1], [4, 3, 5], [2, 4, 1], [2, 3, 1], \n",
    "        [3, 1, 2], [2, 4, 0], [4, 0, 5], [4, 3, 2]]\n",
    "\n",
    "# Random values to check if crossover and/or mutation happen\n",
    "l_rand= [0.59, 0.96, 0.64, 0.86, 0.44, 0.70, 0.78, 0.96, 0.67, 0.89, 0.46, 0.34, 0.24, 0.80, 0.77, 0.11, 0.91, 0.69, \n",
    "         0.80, 0.50, 0.60, 0.18, 0.55, 0.39, 0.68, 0.21, 0.01, 0.91, 0.78, 0.35, 0.04, 0.49, 0.43, 0.13, 0.82, 0.66, \n",
    "         0.40, 0.50, 0.93, 0.64, 0.75, 0.96, 0.13, 0.30, 0.63, 0.55, 0.46, 0.87, 0.03, 0.59, 0.87, 0.42, 0.34, 0.68, \n",
    "         0.99, 0.32, 0.15, 0.69, 0.40, 0.49, 0.58, 0.48, 0.76, 0.22, 0.73, 0.50, 0.10, 0.21, 0.95, 0.64, 0.41, 0.13, \n",
    "         0.69, 0.48, 0.41, 0.08, 0.34, 0.14, 0.62, 0.71, 0.01, 0.70, 0.05, 0.37, 0.96, 0.26, 0.58, 0.88, 0.95, 0.05, \n",
    "         0.06, 0.51, 0.39, 0.61, 0.45, 0.42, 0.25, 0.69, 0.18, 0.66, 0.72, 0.33, 0.90, 0.78, 0.36, 0.37, 0.91, 0.15, ]\n",
    "\n",
    "# Select bit where crossover starts\n",
    "l_cross= [1, 2, 2, 1, 2, 2, 2, 1, 1, 1]\n",
    "\n",
    "# Initial population\n",
    "pop = [[1, 0, 1, 0], [1, 0, 1, 0], [1, 0, 0, 0], [1, 1, 1, 0], [1, 0, 0, 0], [1, 0, 0, 1]]\n",
    "\n",
    "\n",
    "# % of crossover and mutation desired\n",
    "r_cross = 0.9\n",
    "r_mut = 0.25\n",
    "\n",
    "# Range for values entering objective function\n",
    "min_value = -1\n",
    "max_value = 1\n"
   ]
  },
  {
   "cell_type": "markdown",
   "id": "e63704aa",
   "metadata": {},
   "source": [
    "## Mapping process"
   ]
  },
  {
   "cell_type": "code",
   "execution_count": 100,
   "id": "4acbb384",
   "metadata": {},
   "outputs": [],
   "source": [
    "# Turn lists into binary values\n",
    "\n",
    "def list2bin(population):\n",
    "    binary_numbers = []\n",
    "\n",
    "    for row in population:\n",
    "        binary_number = \"\"\n",
    "        for bit in row:\n",
    "            binary_number += str(bit)\n",
    "        binary_numbers.append(binary_number)\n",
    "    return binary_numbers\n",
    "\n",
    "    \n",
    "# Turn binary values into decimal values   \n",
    "\n",
    "def bin2dec(bins):\n",
    "    decimal_values = []\n",
    "\n",
    "    for binary_number in bins:\n",
    "        decimal_value = int(binary_number, 2)\n",
    "        decimal_values.append(decimal_value)\n",
    "    return decimal_values\n",
    "\n",
    "\n",
    "# Map decimal values into values to evaluate objective function\n",
    "\n",
    "\n",
    "def mapping(decValues):\n",
    "    decoded_values = []\n",
    "    bits_ind = 4 # bits per individual\n",
    "    \n",
    "    for decimal_value in decValues:\n",
    "        decoded_value = min_value + decimal_value*(max_value - min_value)/(2**bits_ind-1)\n",
    "        decoded_values.append(decoded_value)\n",
    "    return decoded_values\n"
   ]
  },
  {
   "cell_type": "code",
   "execution_count": 101,
   "id": "6a8e23cb",
   "metadata": {},
   "outputs": [],
   "source": [
    "binaries = list2bin(pop)\n",
    "decimals = bin2dec(binaries)\n",
    "dec_vals = mapping(decimals)"
   ]
  },
  {
   "cell_type": "markdown",
   "id": "00f1e24c",
   "metadata": {},
   "source": [
    "## Objective function and individuals' fitnesses"
   ]
  },
  {
   "cell_type": "code",
   "execution_count": 102,
   "id": "6c0c09e2",
   "metadata": {},
   "outputs": [],
   "source": [
    "# Evaluating objective function\n",
    "\n",
    "obj_function = lambda x: x**2\n",
    "\n",
    "def fitness_fcn(decoded_values):\n",
    "    # Obtain the fitnesses for each individual\n",
    "\n",
    "    fitnesses = []\n",
    "\n",
    "    for decoded_value in decoded_values:\n",
    "        fitness = obj_function(decoded_value)\n",
    "        fitnesses.append(fitness)\n",
    "    \n",
    "    # Dictionary to help us retrieve individuals' indices ahead\n",
    "\n",
    "    \n",
    "    return fitnesses\n",
    "    \n"
   ]
  },
  {
   "cell_type": "code",
   "execution_count": 103,
   "id": "8390f789",
   "metadata": {},
   "outputs": [
    {
     "data": {
      "text/plain": [
       "{0: 0.11111111111111106,\n",
       " 1: 0.11111111111111106,\n",
       " 2: 0.004444444444444443,\n",
       " 3: 0.7511111111111112,\n",
       " 4: 0.004444444444444443,\n",
       " 5: 0.03999999999999998}"
      ]
     },
     "execution_count": 103,
     "metadata": {},
     "output_type": "execute_result"
    }
   ],
   "source": [
    "fit_list =  fitness_fcn(dec_vals)\n",
    "\n",
    "fit_dict = {index: value for index, value in enumerate(fitnesses)} \n",
    "\n",
    "fit_dict"
   ]
  },
  {
   "cell_type": "markdown",
   "id": "a878cf29",
   "metadata": {},
   "source": [
    "## Tournament process"
   ]
  },
  {
   "cell_type": "code",
   "execution_count": 104,
   "id": "6d0009ea",
   "metadata": {},
   "outputs": [],
   "source": [
    "def tournament(generation, selection, fitnesses): \n",
    "    # Separate tournaments' list into smaller lists (same amount as individuals in initial population)\n",
    "\n",
    "    n = 6 # Number of elements per smaller list\n",
    "\n",
    "    tournaments= []\n",
    "\n",
    "    smaller_lists = [selection[i:i + n] for i in range(0, len(selection), n)]\n",
    "\n",
    "    for sublist in smaller_lists:\n",
    "        tournaments.append(sublist)\n",
    "        \n",
    "    sorted_list = []\n",
    "    comps = 3 # competitors per tournament\n",
    "    \n",
    "    # actual tournament process\n",
    "    \n",
    "    champs = []\n",
    "    \n",
    "    for tourns in tournaments[generation]:\n",
    "        for competitor in tourns:\n",
    "            sorted_list.append(fitnesses[competitor])\n",
    "    smaller_tourns = [sorted_list[i:i + comps] for i in range(0, len(sorted_list), comps)]\n",
    "    for element in smaller_tourns:\n",
    "        champs.append(min(element))\n",
    "        \n",
    "    return champs"
   ]
  },
  {
   "cell_type": "code",
   "execution_count": 105,
   "id": "0ac21253",
   "metadata": {},
   "outputs": [],
   "source": [
    "champs = tournament(0, l_sel, fit_list)"
   ]
  },
  {
   "cell_type": "markdown",
   "id": "5777b8e3",
   "metadata": {},
   "source": [
    "### Champions"
   ]
  },
  {
   "cell_type": "code",
   "execution_count": 106,
   "id": "af1ef31c",
   "metadata": {},
   "outputs": [],
   "source": [
    "def champs_fcn(champions):\n",
    "    # Retrieve indices to know which individuals will integrate new population\n",
    "\n",
    "    indices = [key for value in champions for key, dict_value in fit_dict.items() if value == dict_value]\n",
    "    subtourns_ = [indices[i:i+6] for i in range(0, len(indices), 6)]\n",
    "\n",
    "    subtourns = subtourns_[0]\n",
    "    \n",
    "    return subtourns\n"
   ]
  },
  {
   "cell_type": "code",
   "execution_count": 107,
   "id": "da830ae5",
   "metadata": {},
   "outputs": [],
   "source": [
    "subtourns = champs_fcn(champs)"
   ]
  },
  {
   "cell_type": "code",
   "execution_count": 108,
   "id": "973c7985",
   "metadata": {},
   "outputs": [],
   "source": [
    "# Separate list of population (not sure why tbh)\n",
    "\n",
    "sep_gen = [pop[i:i + 1] for i in range(0, len(pop), 1)]\n"
   ]
  },
  {
   "cell_type": "markdown",
   "id": "0f441300",
   "metadata": {},
   "source": [
    "## New Generation"
   ]
  },
  {
   "cell_type": "code",
   "execution_count": 109,
   "id": "c509b124",
   "metadata": {},
   "outputs": [],
   "source": [
    "# Create list of individuals for next generation\n",
    "\n",
    "new_gen = []\n",
    "\n",
    "for index in subtourns:\n",
    "    new_gen.append(sep_gen[index])"
   ]
  },
  {
   "cell_type": "markdown",
   "id": "23a02be3",
   "metadata": {},
   "source": [
    "## Crossover and mutation"
   ]
  },
  {
   "cell_type": "markdown",
   "id": "855cb625",
   "metadata": {},
   "source": [
    "### Crossover"
   ]
  },
  {
   "cell_type": "code",
   "execution_count": 110,
   "id": "2c8e59f7",
   "metadata": {},
   "outputs": [
    {
     "name": "stdout",
     "output_type": "stream",
     "text": [
      "[[1, 0, 0, 0], [1, 0, 0, 1], [1, 0, 0, 1], [1, 0, 0, 0], [1, 0, 0, 0], [1, 0, 0, 0]]\n"
     ]
    }
   ],
   "source": [
    "import random\n",
    "\n",
    "# Crossover function\n",
    "def crossover(parent1, parent2, crossover_prob, crossover_points):\n",
    "    if random.random() <= crossover_prob:\n",
    "        child1 = parent1[:crossover_points] + parent2[crossover_points:]\n",
    "        child2 = parent2[:crossover_points] + parent1[crossover_points:]\n",
    "        return child1, child2\n",
    "    else:\n",
    "        return parent1, parent2\n",
    "\n",
    "# Define your population and crossover parameters\n",
    "population_size = 6\n",
    "crossover_probability = 0.9  # You can adjust this as needed\n",
    "crossover_points_list = l_cross  # Replace with your list of crossover points\n",
    "\n",
    "# Perform crossover on the parents to generate children\n",
    "children = []\n",
    "\n",
    "for i in range(0, population_size, 2):\n",
    "    if crossover_points_list:  # Check if there are remaining crossover points\n",
    "        child1, child2 = crossover(parents[i][0], parents[i+1][0], crossover_probability, crossover_points_list[0])\n",
    "        crossover_points_list = crossover_points_list[1:] + [crossover_points_list[0]]  # Move the used point to the end\n",
    "    else:\n",
    "        child1, child2 = parents[i][0], parents[i+1][0]  # No more crossover points, just copy parents\n",
    "\n",
    "    children.append(child1)\n",
    "    children.append(child2)\n",
    "\n",
    "print(children)\n"
   ]
  },
  {
   "cell_type": "markdown",
   "id": "05db5abf",
   "metadata": {},
   "source": [
    "### Mutation"
   ]
  },
  {
   "cell_type": "code",
   "execution_count": 111,
   "id": "b9d1764d",
   "metadata": {},
   "outputs": [
    {
     "name": "stdout",
     "output_type": "stream",
     "text": [
      "[[0, 0, 1, 0], [1, 1, 0, 0], [1, 0, 0, 1], [1, 0, 1, 0], [0, 0, 0, 0], [1, 0, 1, 0]]\n"
     ]
    }
   ],
   "source": [
    "import random\n",
    "\n",
    "# Mutation function\n",
    "def mutation(child2mut, list_values, rmut):\n",
    "    chrom = 0\n",
    "    mutated_child = child2mut.copy()  # Create a copy of the child to modify\n",
    "    sublist_index = 0  # Initialize the index for the sublist\n",
    "    \n",
    "    for item in list_values:\n",
    "        if sublist_index >= len(list_values[sublist_index]):\n",
    "            sublist_index += 1  # Move to the next sublist if the current sublist is exhausted\n",
    "            chrom = 0  # Reset the chrom index for the new sublist\n",
    "            \n",
    "        if sublist_index < len(list_values) and item <= rmut:\n",
    "            mutated_child[chrom] = 1 - child2mut[chrom]  # Toggle 1 to 0 and vice versa\n",
    "            chrom += 1\n",
    "        \n",
    "    return mutated_child\n",
    "\n",
    "\n",
    "# Define your mutation parameters\n",
    "mutation_probability = r_mut  \n",
    "mutation_list = mut_valid[:len(children[0])]  # Ensure mutation_list has the same length as children\n",
    "\n",
    "# Apply mutation to children\n",
    "mutated_children = []\n",
    "\n",
    "for child in children:\n",
    "    mutated_child = mutate(child, mutation_list, mutation_probability)\n",
    "    mutated_children.append(mutated_child)\n",
    "\n",
    "print(mutated_children)\n"
   ]
  },
  {
   "cell_type": "code",
   "execution_count": 112,
   "id": "ec17f9fe",
   "metadata": {},
   "outputs": [
    {
     "name": "stdout",
     "output_type": "stream",
     "text": [
      "The new population is: [[0, 0, 1, 0], [1, 1, 0, 0], [1, 0, 0, 1], [1, 0, 1, 0], [0, 0, 0, 0], [1, 0, 1, 0]]\n"
     ]
    }
   ],
   "source": [
    "new_pop = []\n",
    "new_pop = mutated_children\n",
    "\n",
    "print(\"The new population is:\", new_pop)"
   ]
  }
 ],
 "metadata": {
  "kernelspec": {
   "display_name": "Python 3 (ipykernel)",
   "language": "python",
   "name": "python3"
  },
  "language_info": {
   "codemirror_mode": {
    "name": "ipython",
    "version": 3
   },
   "file_extension": ".py",
   "mimetype": "text/x-python",
   "name": "python",
   "nbconvert_exporter": "python",
   "pygments_lexer": "ipython3",
   "version": "3.9.13"
  }
 },
 "nbformat": 4,
 "nbformat_minor": 5
}
